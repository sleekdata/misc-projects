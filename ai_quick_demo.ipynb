{
 "cells": [
  {
   "cell_type": "code",
   "execution_count": 0,
   "metadata": {
    "application/vnd.databricks.v1+cell": {
     "cellMetadata": {},
     "inputWidgets": {},
     "nuid": "6be98958-05c3-45e0-93f6-5e1fc1f4a15e",
     "showTitle": false,
     "tableResultSettingsMap": {},
     "title": ""
    }
   },
   "outputs": [],
   "source": [
    "# Imports\n",
    "try:\n",
    "    from openai import OpenAI\n",
    "except ImportError:\n",
    "    %pip install openai\n",
    "    dbutils.library.restartPython()\n",
    "    from openai import OpenAI\n",
    "\n",
    "# Client setup\n",
    "client = OpenAI(\n",
    "  api_key=dbutils.notebook.entry_point.getDbutils().notebook().getContext().apiToken().get(),\n",
    "  base_url=\"https://dbc-70a1add4-07d6.cloud.databricks.com/serving-endpoints\"\n",
    ")\n",
    "\n",
    "# Request to model\n",
    "chat_completion = client.chat.completions.create(\n",
    "  messages=[\n",
    "  {\n",
    "    \"role\": \"user\",\n",
    "    \"content\": \"List the top 5 most powerful militaries in the world\"\n",
    "  }\n",
    "  ],\n",
    "  model=\"databricks-gpt-oss-20b\",\n",
    "  max_tokens=256\n",
    ")\n",
    "\n",
    "# Print response\n",
    "print(chat_completion.choices[0].message.content)\n"
   ]
  }
 ],
 "metadata": {
  "application/vnd.databricks.v1+notebook": {
   "computePreferences": null,
   "dashboards": [],
   "environmentMetadata": {
    "base_environment": "",
    "environment_version": "2"
   },
   "inputWidgetPreferences": null,
   "language": "python",
   "notebookMetadata": {
    "pythonIndentUnit": 4
   },
   "notebookName": "ai_quick_demo",
   "widgets": {}
  },
  "language_info": {
   "name": "python"
  }
 },
 "nbformat": 4,
 "nbformat_minor": 0
}
