{
 "cells": [
  {
   "cell_type": "code",
   "execution_count": 0,
   "metadata": {
    "application/vnd.databricks.v1+cell": {
     "cellMetadata": {
      "byteLimit": 2048000,
      "rowLimit": 10000
     },
     "inputWidgets": {},
     "nuid": "45ce9d2e-91ca-44b6-b8b4-6033a86b7934",
     "showTitle": false,
     "tableResultSettingsMap": {},
     "title": ""
    }
   },
   "outputs": [],
   "source": [
    "try:\n",
    "    from openai import OpenAI\n",
    "except ImportError:\n",
    "    %pip install openai\n",
    "    dbutils.library.restartPython()\n",
    "    from openai import OpenAI\n",
    "\n",
    "client = OpenAI(\n",
    "  api_key=dbutils.notebook.entry_point.getDbutils().notebook().getContext().apiToken().get(),\n",
    "  base_url=\"https://dbc-70a1add4-07d6.cloud.databricks.com/serving-endpoints\"\n",
    ")\n",
    "\n",
    "chat_completion = client.chat.completions.create(\n",
    "  messages=[\n",
    "  {\n",
    "    \"role\": \"user\",\n",
    "    \"content\": \"List the top 5 most powerful militaries in the world\"\n",
    "  }\n",
    "  ],\n",
    "  model=\"databricks-gpt-oss-20b\",\n",
    "  max_tokens=256\n",
    ")\n",
    "\n",
    "print(chat_completion.choices[0].message.content)"
   ]
  }
 ],
 "metadata": {
  "application/vnd.databricks.v1+notebook": {
   "computePreferences": null,
   "dashboards": [],
   "environmentMetadata": {
    "base_environment": "",
    "environment_version": "2"
   },
   "inputWidgetPreferences": null,
   "language": "python",
   "notebookMetadata": {
    "pythonIndentUnit": 4
   },
   "notebookName": "ai_quick_demo",
   "widgets": {}
  },
  "language_info": {
   "name": "python"
  }
 },
 "nbformat": 4,
 "nbformat_minor": 0
}
